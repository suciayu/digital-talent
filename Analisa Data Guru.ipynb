{
 "cells": [
  {
   "cell_type": "markdown",
   "metadata": {},
   "source": [
    "### Deskripsi Data\n",
    "Data berikut ini berisi mengenai jumlah persebaran guru per provinsi di Indonesia berdasarkan usia. \n",
    "Variabel yang terdapat pada data:\n",
    "    - kode_provinsi: Kode Provinsi \n",
    "    - nama_provinsi: Nama Provinsi \n",
    "    - tingkat_pendidikan: Tingkat Pendidikan \n",
    "    - kelompok_usia: Kelompok Usia dari guru bersangkutan \n",
    "    - jumlah_guru: Jumlah Guru "
   ]
  },
  {
   "cell_type": "code",
   "execution_count": 2,
   "metadata": {},
   "outputs": [],
   "source": [
    "import pandas as pd"
   ]
  },
  {
   "cell_type": "code",
   "execution_count": 3,
   "metadata": {},
   "outputs": [],
   "source": [
    "data_guru = pd.read_csv('processed-data-guru-kelompok-usia-provinsi-2012.csv', delimiter = ',', encoding = \"ISO-8859-1\")"
   ]
  },
  {
   "cell_type": "code",
   "execution_count": null,
   "metadata": {},
   "outputs": [],
   "source": [
    "data_guru"
   ]
  },
  {
   "cell_type": "code",
   "execution_count": 4,
   "metadata": {},
   "outputs": [
    {
     "data": {
      "text/plain": [
       "Index(['kode_provinsi', 'nama_provinsi', 'tingkat_pendidikan', 'kelompok_usia',\n",
       "       'jumlah_guru'],\n",
       "      dtype='object')"
      ]
     },
     "execution_count": 4,
     "metadata": {},
     "output_type": "execute_result"
    }
   ],
   "source": [
    "# varabel data\n",
    "data_guru.columns"
   ]
  },
  {
   "cell_type": "markdown",
   "metadata": {},
   "source": [
    "## Statistik Data"
   ]
  },
  {
   "cell_type": "code",
   "execution_count": 6,
   "metadata": {},
   "outputs": [
    {
     "name": "stdout",
     "output_type": "stream",
     "text": [
      "kode_provinsi                       (47.03030303030303+0j)\n",
      "nama_provinsi           (3.95570443e-316+3.95273514e-316j)\n",
      "tingkat_pendidikan    (5.0162949855e-313+1.07171504e-316j)\n",
      "kelompok_usia                         (1.07171504e-316+0j)\n",
      "jumlah_guru                        (1996.6375545851529+0j)\n",
      "dtype: complex128\n"
     ]
    }
   ],
   "source": [
    "# rata-rata tiap kolom\n",
    "rata = data_guru.mean()\n",
    "print(rata)"
   ]
  },
  {
   "cell_type": "code",
   "execution_count": 8,
   "metadata": {},
   "outputs": [
    {
     "data": {
      "text/html": [
       "<div>\n",
       "<style scoped>\n",
       "    .dataframe tbody tr th:only-of-type {\n",
       "        vertical-align: middle;\n",
       "    }\n",
       "\n",
       "    .dataframe tbody tr th {\n",
       "        vertical-align: top;\n",
       "    }\n",
       "\n",
       "    .dataframe thead th {\n",
       "        text-align: right;\n",
       "    }\n",
       "</style>\n",
       "<table border=\"1\" class=\"dataframe\">\n",
       "  <thead>\n",
       "    <tr style=\"text-align: right;\">\n",
       "      <th></th>\n",
       "      <th>kode_provinsi</th>\n",
       "      <th>jumlah_guru</th>\n",
       "    </tr>\n",
       "    <tr>\n",
       "      <th>nama_provinsi</th>\n",
       "      <th></th>\n",
       "      <th></th>\n",
       "    </tr>\n",
       "  </thead>\n",
       "  <tbody>\n",
       "    <tr>\n",
       "      <th>Prov. Bali</th>\n",
       "      <td>51</td>\n",
       "      <td>1177.809524</td>\n",
       "    </tr>\n",
       "    <tr>\n",
       "      <th>Prov. Banten</th>\n",
       "      <td>36</td>\n",
       "      <td>2163.595238</td>\n",
       "    </tr>\n",
       "    <tr>\n",
       "      <th>Prov. Bengkulu</th>\n",
       "      <td>17</td>\n",
       "      <td>658.023810</td>\n",
       "    </tr>\n",
       "    <tr>\n",
       "      <th>Prov. D I Yogyakarta</th>\n",
       "      <td>34</td>\n",
       "      <td>1208.000000</td>\n",
       "    </tr>\n",
       "    <tr>\n",
       "      <th>Prov. DKI Jakarta</th>\n",
       "      <td>31</td>\n",
       "      <td>2116.333333</td>\n",
       "    </tr>\n",
       "    <tr>\n",
       "      <th>Prov. Gorontalo</th>\n",
       "      <td>75</td>\n",
       "      <td>412.119048</td>\n",
       "    </tr>\n",
       "    <tr>\n",
       "      <th>Prov. Jambi</th>\n",
       "      <td>15</td>\n",
       "      <td>983.071429</td>\n",
       "    </tr>\n",
       "    <tr>\n",
       "      <th>Prov. Jawa Barat</th>\n",
       "      <td>32</td>\n",
       "      <td>8239.619048</td>\n",
       "    </tr>\n",
       "    <tr>\n",
       "      <th>Prov. Jawa Tengah</th>\n",
       "      <td>33</td>\n",
       "      <td>7800.309524</td>\n",
       "    </tr>\n",
       "    <tr>\n",
       "      <th>Prov. Jawa Timur</th>\n",
       "      <td>35</td>\n",
       "      <td>9609.333333</td>\n",
       "    </tr>\n",
       "    <tr>\n",
       "      <th>Prov. Kalimantan Barat</th>\n",
       "      <td>61</td>\n",
       "      <td>1159.380952</td>\n",
       "    </tr>\n",
       "    <tr>\n",
       "      <th>Prov. Kalimantan Selatan</th>\n",
       "      <td>63</td>\n",
       "      <td>1271.333333</td>\n",
       "    </tr>\n",
       "    <tr>\n",
       "      <th>Prov. Kalimantan Tengah</th>\n",
       "      <td>62</td>\n",
       "      <td>965.666667</td>\n",
       "    </tr>\n",
       "    <tr>\n",
       "      <th>Prov. Kalimantan Timur</th>\n",
       "      <td>64</td>\n",
       "      <td>1218.119048</td>\n",
       "    </tr>\n",
       "    <tr>\n",
       "      <th>Prov. Kepulauan Bangka Belitung</th>\n",
       "      <td>19</td>\n",
       "      <td>381.097561</td>\n",
       "    </tr>\n",
       "    <tr>\n",
       "      <th>Prov. Kepulauan Riau</th>\n",
       "      <td>21</td>\n",
       "      <td>446.780488</td>\n",
       "    </tr>\n",
       "    <tr>\n",
       "      <th>Prov. Lampung</th>\n",
       "      <td>18</td>\n",
       "      <td>2380.976190</td>\n",
       "    </tr>\n",
       "    <tr>\n",
       "      <th>Prov. Maluku</th>\n",
       "      <td>81</td>\n",
       "      <td>701.571429</td>\n",
       "    </tr>\n",
       "    <tr>\n",
       "      <th>Prov. Maluku Utara</th>\n",
       "      <td>82</td>\n",
       "      <td>380.428571</td>\n",
       "    </tr>\n",
       "    <tr>\n",
       "      <th>Prov. Nanggroe Aceh Darussalam</th>\n",
       "      <td>11</td>\n",
       "      <td>2148.195122</td>\n",
       "    </tr>\n",
       "    <tr>\n",
       "      <th>Prov. Nusa Tenggara Barat</th>\n",
       "      <td>52</td>\n",
       "      <td>1305.142857</td>\n",
       "    </tr>\n",
       "    <tr>\n",
       "      <th>Prov. Nusa Tenggara Timur</th>\n",
       "      <td>53</td>\n",
       "      <td>1551.023810</td>\n",
       "    </tr>\n",
       "    <tr>\n",
       "      <th>Prov. Papua</th>\n",
       "      <td>94</td>\n",
       "      <td>579.904762</td>\n",
       "    </tr>\n",
       "    <tr>\n",
       "      <th>Prov. Papua Barat</th>\n",
       "      <td>91</td>\n",
       "      <td>283.285714</td>\n",
       "    </tr>\n",
       "    <tr>\n",
       "      <th>Prov. Riau</th>\n",
       "      <td>14</td>\n",
       "      <td>1804.523810</td>\n",
       "    </tr>\n",
       "    <tr>\n",
       "      <th>Prov. Sulawesi Barat</th>\n",
       "      <td>76</td>\n",
       "      <td>454.175000</td>\n",
       "    </tr>\n",
       "    <tr>\n",
       "      <th>Prov. Sulawesi Selatan</th>\n",
       "      <td>73</td>\n",
       "      <td>2800.000000</td>\n",
       "    </tr>\n",
       "    <tr>\n",
       "      <th>Prov. Sulawesi Tengah</th>\n",
       "      <td>72</td>\n",
       "      <td>966.309524</td>\n",
       "    </tr>\n",
       "    <tr>\n",
       "      <th>Prov. Sulawesi Tenggara</th>\n",
       "      <td>74</td>\n",
       "      <td>1021.666667</td>\n",
       "    </tr>\n",
       "    <tr>\n",
       "      <th>Prov. Sulawesi Utara</th>\n",
       "      <td>71</td>\n",
       "      <td>876.619048</td>\n",
       "    </tr>\n",
       "    <tr>\n",
       "      <th>Prov. Sumatera Barat</th>\n",
       "      <td>13</td>\n",
       "      <td>1929.380952</td>\n",
       "    </tr>\n",
       "    <tr>\n",
       "      <th>Prov. Sumatera Selatan</th>\n",
       "      <td>16</td>\n",
       "      <td>2326.404762</td>\n",
       "    </tr>\n",
       "    <tr>\n",
       "      <th>Prov. Sumatera Utara</th>\n",
       "      <td>12</td>\n",
       "      <td>4138.071429</td>\n",
       "    </tr>\n",
       "  </tbody>\n",
       "</table>\n",
       "</div>"
      ],
      "text/plain": [
       "                                 kode_provinsi  jumlah_guru\n",
       "nama_provinsi                                              \n",
       "Prov. Bali                                  51  1177.809524\n",
       "Prov. Banten                                36  2163.595238\n",
       "Prov. Bengkulu                              17   658.023810\n",
       "Prov. D I Yogyakarta                        34  1208.000000\n",
       "Prov. DKI Jakarta                           31  2116.333333\n",
       "Prov. Gorontalo                             75   412.119048\n",
       "Prov. Jambi                                 15   983.071429\n",
       "Prov. Jawa Barat                            32  8239.619048\n",
       "Prov. Jawa Tengah                           33  7800.309524\n",
       "Prov. Jawa Timur                            35  9609.333333\n",
       "Prov. Kalimantan Barat                      61  1159.380952\n",
       "Prov. Kalimantan Selatan                    63  1271.333333\n",
       "Prov. Kalimantan Tengah                     62   965.666667\n",
       "Prov. Kalimantan Timur                      64  1218.119048\n",
       "Prov. Kepulauan Bangka Belitung             19   381.097561\n",
       "Prov. Kepulauan Riau                        21   446.780488\n",
       "Prov. Lampung                               18  2380.976190\n",
       "Prov. Maluku                                81   701.571429\n",
       "Prov. Maluku Utara                          82   380.428571\n",
       "Prov. Nanggroe Aceh Darussalam              11  2148.195122\n",
       "Prov. Nusa Tenggara Barat                   52  1305.142857\n",
       "Prov. Nusa Tenggara Timur                   53  1551.023810\n",
       "Prov. Papua                                 94   579.904762\n",
       "Prov. Papua Barat                           91   283.285714\n",
       "Prov. Riau                                  14  1804.523810\n",
       "Prov. Sulawesi Barat                        76   454.175000\n",
       "Prov. Sulawesi Selatan                      73  2800.000000\n",
       "Prov. Sulawesi Tengah                       72   966.309524\n",
       "Prov. Sulawesi Tenggara                     74  1021.666667\n",
       "Prov. Sulawesi Utara                        71   876.619048\n",
       "Prov. Sumatera Barat                        13  1929.380952\n",
       "Prov. Sumatera Selatan                      16  2326.404762\n",
       "Prov. Sumatera Utara                        12  4138.071429"
      ]
     },
     "execution_count": 8,
     "metadata": {},
     "output_type": "execute_result"
    }
   ],
   "source": [
    "#Rata-rata jummlah guru per propinsi\n",
    "data_guru.groupby('nama_provinsi').mean()"
   ]
  },
  {
   "cell_type": "code",
   "execution_count": 9,
   "metadata": {},
   "outputs": [
    {
     "data": {
      "text/html": [
       "<div>\n",
       "<style scoped>\n",
       "    .dataframe tbody tr th:only-of-type {\n",
       "        vertical-align: middle;\n",
       "    }\n",
       "\n",
       "    .dataframe tbody tr th {\n",
       "        vertical-align: top;\n",
       "    }\n",
       "\n",
       "    .dataframe thead th {\n",
       "        text-align: right;\n",
       "    }\n",
       "</style>\n",
       "<table border=\"1\" class=\"dataframe\">\n",
       "  <thead>\n",
       "    <tr style=\"text-align: right;\">\n",
       "      <th></th>\n",
       "      <th>kode_provinsi</th>\n",
       "      <th>jumlah_guru</th>\n",
       "    </tr>\n",
       "    <tr>\n",
       "      <th>tingkat_pendidikan</th>\n",
       "      <th></th>\n",
       "      <th></th>\n",
       "    </tr>\n",
       "  </thead>\n",
       "  <tbody>\n",
       "    <tr>\n",
       "      <th>SD</th>\n",
       "      <td>47.030303</td>\n",
       "      <td>6711.151515</td>\n",
       "    </tr>\n",
       "    <tr>\n",
       "      <th>SLB</th>\n",
       "      <td>47.030303</td>\n",
       "      <td>46.041096</td>\n",
       "    </tr>\n",
       "    <tr>\n",
       "      <th>SMA</th>\n",
       "      <td>47.030303</td>\n",
       "      <td>1021.246753</td>\n",
       "    </tr>\n",
       "    <tr>\n",
       "      <th>SMK</th>\n",
       "      <td>47.030303</td>\n",
       "      <td>689.099567</td>\n",
       "    </tr>\n",
       "    <tr>\n",
       "      <th>SMP</th>\n",
       "      <td>47.030303</td>\n",
       "      <td>2224.376623</td>\n",
       "    </tr>\n",
       "    <tr>\n",
       "      <th>TK</th>\n",
       "      <td>47.030303</td>\n",
       "      <td>1186.580087</td>\n",
       "    </tr>\n",
       "  </tbody>\n",
       "</table>\n",
       "</div>"
      ],
      "text/plain": [
       "                    kode_provinsi  jumlah_guru\n",
       "tingkat_pendidikan                            \n",
       "SD                      47.030303  6711.151515\n",
       "SLB                     47.030303    46.041096\n",
       "SMA                     47.030303  1021.246753\n",
       "SMK                     47.030303   689.099567\n",
       "SMP                     47.030303  2224.376623\n",
       "TK                      47.030303  1186.580087"
      ]
     },
     "execution_count": 9,
     "metadata": {},
     "output_type": "execute_result"
    }
   ],
   "source": [
    "# rata-rata jumlah guru berdasarkan tinkatan pendidikan di setiap propinsi\n",
    "data_guru.groupby('tingkat_pendidikan').mean()"
   ]
  },
  {
   "cell_type": "code",
   "execution_count": 10,
   "metadata": {},
   "outputs": [
    {
     "data": {
      "text/html": [
       "<div>\n",
       "<style scoped>\n",
       "    .dataframe tbody tr th:only-of-type {\n",
       "        vertical-align: middle;\n",
       "    }\n",
       "\n",
       "    .dataframe tbody tr th {\n",
       "        vertical-align: top;\n",
       "    }\n",
       "\n",
       "    .dataframe thead th {\n",
       "        text-align: right;\n",
       "    }\n",
       "</style>\n",
       "<table border=\"1\" class=\"dataframe\">\n",
       "  <thead>\n",
       "    <tr style=\"text-align: right;\">\n",
       "      <th></th>\n",
       "      <th>kode_provinsi</th>\n",
       "      <th>jumlah_guru</th>\n",
       "    </tr>\n",
       "    <tr>\n",
       "      <th>kelompok_usia</th>\n",
       "      <th></th>\n",
       "      <th></th>\n",
       "    </tr>\n",
       "  </thead>\n",
       "  <tbody>\n",
       "    <tr>\n",
       "      <th>30 ke bawah</th>\n",
       "      <td>47.030303</td>\n",
       "      <td>2579.275510</td>\n",
       "    </tr>\n",
       "    <tr>\n",
       "      <th>31 - 35</th>\n",
       "      <td>47.030303</td>\n",
       "      <td>1734.883249</td>\n",
       "    </tr>\n",
       "    <tr>\n",
       "      <th>36 - 40</th>\n",
       "      <td>47.030303</td>\n",
       "      <td>1503.832487</td>\n",
       "    </tr>\n",
       "    <tr>\n",
       "      <th>41 - 45</th>\n",
       "      <td>47.030303</td>\n",
       "      <td>2385.324873</td>\n",
       "    </tr>\n",
       "    <tr>\n",
       "      <th>46 - 50</th>\n",
       "      <td>47.030303</td>\n",
       "      <td>2680.035533</td>\n",
       "    </tr>\n",
       "    <tr>\n",
       "      <th>51 - 55</th>\n",
       "      <td>47.030303</td>\n",
       "      <td>1947.309645</td>\n",
       "    </tr>\n",
       "    <tr>\n",
       "      <th>56 ke atas</th>\n",
       "      <td>47.030303</td>\n",
       "      <td>1131.186528</td>\n",
       "    </tr>\n",
       "  </tbody>\n",
       "</table>\n",
       "</div>"
      ],
      "text/plain": [
       "               kode_provinsi  jumlah_guru\n",
       "kelompok_usia                            \n",
       "30 ke bawah        47.030303  2579.275510\n",
       "31 - 35            47.030303  1734.883249\n",
       "36 - 40            47.030303  1503.832487\n",
       "41 - 45            47.030303  2385.324873\n",
       "46 - 50            47.030303  2680.035533\n",
       "51 - 55            47.030303  1947.309645\n",
       "56 ke atas         47.030303  1131.186528"
      ]
     },
     "execution_count": 10,
     "metadata": {},
     "output_type": "execute_result"
    }
   ],
   "source": [
    "# rata-rata jumlah guru berdasarkan kelompok usia\n",
    "data_guru.groupby('kelompok_usia').mean()"
   ]
  },
  {
   "cell_type": "markdown",
   "metadata": {},
   "source": [
    "## Visualisasi Sederhana"
   ]
  },
  {
   "cell_type": "code",
   "execution_count": 5,
   "metadata": {},
   "outputs": [
    {
     "data": {
      "text/plain": [
       "Text(0,0.5,'Jumlah')"
      ]
     },
     "execution_count": 5,
     "metadata": {},
     "output_type": "execute_result"
    },
    {
     "data": {
      "image/png": "[encoded data removed]",
      "text/plain": [
       "<Figure size 432x288 with 1 Axes>"
      ]
     },
     "metadata": {
      "needs_background": "light"
     },
     "output_type": "display_data"
    }
   ],
   "source": [
    "# grafik rata-rata jumlah guru per propinsi\n",
    "ax = data_guru.groupby('nama_provinsi').mean()['jumlah_guru']\n",
    "ax = ax.plot(kind='bar', title =\"Rata-Rata Jumlah Guru Berdasarkan Propinsi\", legend=True, fontsize=12)\n",
    "ax.set_xlabel(\"Propinsi\", fontsize=12)\n",
    "ax.set_ylabel(\"Jumlah\", fontsize=12)"
   ]
  },
  {
   "cell_type": "code",
   "execution_count": 15,
   "metadata": {},
   "outputs": [
    {
     "data": {
      "text/plain": [
       "Text(0,0.5,'Jumlah')"
      ]
     },
     "execution_count": 15,
     "metadata": {},
     "output_type": "execute_result"
    },
    {
     "data": {
      "image/png": "[encoded data removed]",
      "text/plain": [
       "<Figure size 432x288 with 1 Axes>"
      ]
     },
     "metadata": {
      "needs_background": "light"
     },
     "output_type": "display_data"
    }
   ],
   "source": [
    "# grafik rata-rata jumlah guru per kelompok usia\n",
    "ax = data_guru.groupby('kelompok_usia').mean()['jumlah_guru']\n",
    "ax = ax.plot(kind='bar', title =\"Rata-Rata Jumlah Guru Berdasarkan Kelompok Usia\", legend=True, fontsize=12)\n",
    "ax.set_xlabel(\"Usia\", fontsize=12)\n",
    "ax.set_ylabel(\"Jumlah\", fontsize=12)"
   ]
  },
  {
   "cell_type": "code",
   "execution_count": 16,
   "metadata": {},
   "outputs": [
    {
     "data": {
      "text/plain": [
       "Text(0,0.5,'Jumlah')"
      ]
     },
     "execution_count": 16,
     "metadata": {},
     "output_type": "execute_result"
    },
    {
     "data": {
      "image/png": "[encoded data removed]",
      "text/plain": [
       "<Figure size 432x288 with 1 Axes>"
      ]
     },
     "metadata": {
      "needs_background": "light"
     },
     "output_type": "display_data"
    }
   ],
   "source": [
    "# grafik rata-rata jumlah guru per tingkat satuan pendidikan\n",
    "ax = data_guru.groupby('tingkat_pendidikan').mean()['jumlah_guru']\n",
    "ax = ax.plot(kind='bar', title =\"Rata-Rata Jumlah Guru Berdasarkan Tingkat Pendidikan\", legend=True, fontsize=12)\n",
    "ax.set_xlabel(\"Pendidikan\", fontsize=12)\n",
    "ax.set_ylabel(\"Jumlah\", fontsize=12)"
   ]
  },
  {
   "cell_type": "markdown",
   "metadata": {},
   "source": [
    "## Analisis"
   ]
  },
  {
   "cell_type": "markdown",
   "metadata": {},
   "source": [
    "Dari visualisasi di atas dapat diketahui bahwa:\n",
    "    - Rata-rata jumlah guru terbanyak terdapat di propinsi Jawa Barat. Sedangkan rata-rata jumlah guru yang paling sedikit terdapat di propinsi Papua Barat\n",
    "    - Rata-rata jumlah guru terbanyak berada pada kelompok usia 46 - 50 tahun dan rata-rata jumlah gru yang berusia 56 ke atas memiliki jumlah paling sedikit dari komposisi persebaran jumlah guru\n",
    "    - Rata-rata jumlah guru paling banyak mengajar tingkat Sekolah Dasar (SD) sedangkan yang mengajar SLB memiliki rata-rata jumlah paling sedikit dengan jumlah 1131.186528 guru\n",
    "Untuk analisa lebih lanjut, nantinya data ini juga dapat digabungkan dengan data jumlah sekolah, jumlah murid, dan yang lainnya untuk mengetahui apakah persebaran guru seperti di atas sudah sesuai atau belum"
   ]
  },
  {
   "cell_type": "code",
   "execution_count": null,
   "metadata": {},
   "outputs": [],
   "source": []
  }
 ],
 "metadata": {
  "kernelspec": {
   "display_name": "Python 3",
   "language": "python",
   "name": "python3"
  },
  "language_info": {
   "codemirror_mode": {
    "name": "ipython",
    "version": 3
   },
   "file_extension": ".py",
   "mimetype": "text/x-python",
   "name": "python",
   "nbconvert_exporter": "python",
   "pygments_lexer": "ipython3",
   "version": "3.7.0"
  }
 },
 "nbformat": 4,
 "nbformat_minor": 2
}

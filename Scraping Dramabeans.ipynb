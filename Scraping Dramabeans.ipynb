{
 "cells": [
  {
   "cell_type": "code",
   "execution_count": 1,
   "metadata": {},
   "outputs": [],
   "source": [
    "# Start importing library to scrape\n",
    "import requests # for requesting the website\n",
    "from bs4 import BeautifulSoup # for cleaning the website text (html), so it's more readable for further analysis\n",
    "import json # for reading & writing a json format variable\n",
    "import pandas as pd # for managing data frames\n",
    "import time # for timer\n",
    "import csv"
   ]
  },
  {
   "cell_type": "code",
   "execution_count": 3,
   "metadata": {},
   "outputs": [
    {
     "name": "stdout",
     "output_type": "stream",
     "text": [
      "Scraping dramabeans news page 1\n",
      "Scraping dramabeans news page 2\n"
     ]
    }
   ],
   "source": [
    "children =[]\n",
    "result = []\n",
    "for i in range(1, 3):\n",
    "    print(\"Scraping dramabeans news page \" + str(i))\n",
    "    \n",
    "    # Get page content\n",
    "    page = requests.get(\"http://www.dramabeans.com/news/page/\" + str(i))\n",
    "    htmlPage = page.content    \n",
    "    soup = BeautifulSoup(htmlPage, \"lxml\")\n",
    "\n",
    "    links=soup.find_all(\"h3\", {\"class\": \"post-title-thumbnail\"})\n",
    "    for link in soup.find_all(\"h3\", {\"class\": \"post-title-thumbnail\"}):\n",
    "        #print(link.findChildren())\n",
    "        test = link.findChildren()\n",
    "        for i in test:\n",
    "            children.append(str(i))\n",
    "        #print(len(test))\n",
    "    for i in range (len(children)):\n",
    "        splitResult=children[i].split(\"=\")\n",
    "        temp=splitResult[1]\n",
    "        fix=temp[1:-7]\n",
    "        result.append(fix)\n",
    "\n",
    "    dataFrame = pd.DataFrame(result)\n",
    "    dataFrame.to_csv(\"Data Dramabeans.csv\", sep=\";\")\n",
    "    #print(result)"
   ]
  },
  {
   "cell_type": "code",
   "execution_count": null,
   "metadata": {},
   "outputs": [],
   "source": []
  }
 ],
 "metadata": {
  "kernelspec": {
   "display_name": "Python 3",
   "language": "python",
   "name": "python3"
  },
  "language_info": {
   "codemirror_mode": {
    "name": "ipython",
    "version": 3
   },
   "file_extension": ".py",
   "mimetype": "text/x-python",
   "name": "python",
   "nbconvert_exporter": "python",
   "pygments_lexer": "ipython3",
   "version": "3.7.0"
  }
 },
 "nbformat": 4,
 "nbformat_minor": 2
}

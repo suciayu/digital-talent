{
 "cells": [
  {
   "cell_type": "markdown",
   "metadata": {},
   "source": [
    "## Tugas List Nilai\n",
    "\n",
    "Diberikan sekumpulan Nilai Random antara 0 sampai dengan 100 sebanyak 250 nilai. Buatlah program untuk melakukan hal berikut:\n",
    "    - Tampilkan Angka Ganjil dari ke 50 nilai tersebut\n",
    "    - Tampilkan berapa banyak yang mendapatkan nilai lebih dari 70\n",
    "    - Tampilkan standar deviasi dari sekumpulan nilai tersebut\n",
    "    - Tampilkan nilai maksimum dan minimum\n",
    "    - Tampilkan modus dari sekumpulan nilai tersebut"
   ]
  },
  {
   "cell_type": "code",
   "execution_count": 66,
   "metadata": {},
   "outputs": [
    {
     "name": "stdout",
     "output_type": "stream",
     "text": [
      "[73, 14, 15, 67, 59, 97, 9, 49, 4, 81, 61, 94, 23, 52, 40, 11, 92, 50, 73, 83, 95, 27, 47, 97, 37, 69, 17, 12, 23, 75, 32, 23, 65, 4, 1, 68, 63, 3, 98, 96, 86, 32, 37, 86, 38, 29, 93, 37, 70, 8, 51, 93, 13, 79, 48, 84, 89, 95, 85, 10, 51, 19, 28, 7, 78, 79, 17, 91, 31, 92, 78, 64, 90, 85, 27, 40, 30, 59, 56, 53, 88, 22, 34, 79, 54, 14, 24, 85, 20, 62, 28, 79, 90, 33, 12, 92, 15, 64, 87, 59, 36, 12, 87, 18, 40, 41, 54, 85, 70, 64, 68, 59, 89, 61, 54, 99, 32, 51, 51, 4, 71, 46, 77, 25, 95, 46, 4, 60, 41, 71, 93, 21, 37, 51, 42, 4, 95, 67, 11, 57, 1, 52, 96, 31, 37, 88, 93, 55, 35, 31, 49, 44, 48, 33, 36, 65, 3, 50, 47, 80, 34, 63, 51, 36, 14, 9, 98, 22, 85, 87, 86, 94, 38, 64, 56, 39, 99, 42, 27, 31, 84, 16, 11, 21, 39, 30, 90, 10, 99, 24, 5, 72, 97, 70, 29, 64, 94, 89, 59, 61, 41, 71, 85, 3, 23, 44, 80, 58, 88, 37, 98, 60, 63, 86, 48, 27, 70, 38, 63, 81, 64, 59, 74, 59, 8, 24, 32, 3, 17, 39, 11, 24, 12, 27, 97, 23, 98, 14, 38, 85, 28, 74, 35, 43, 86, 57, 30, 60, 55, 20]\n",
      "List angka ganjil:  [73, 15, 67, 59, 97, 9, 49, 81, 61, 23, 11, 73, 83, 95, 27, 47, 97, 37, 69, 17, 23, 75, 23, 65, 1, 63, 3, 37, 29, 93, 37, 51, 93, 13, 79, 89, 95, 85, 51, 19, 7, 79, 17, 91, 31, 85, 27, 59, 53, 79, 85, 79, 33, 15, 87, 59, 87, 41, 85, 59, 89, 61, 99, 51, 51, 71, 77, 25, 95, 41, 71, 93, 21, 37, 51, 95, 67, 11, 57, 1, 31, 37, 93, 55, 35, 31, 49, 33, 65, 3, 47, 63, 51, 9, 85, 87, 39, 99, 27, 31, 11, 21, 39, 99, 5, 97, 29, 89, 59, 61, 41, 71, 85, 3, 23, 37, 63, 27, 63, 81, 59, 59, 3, 17, 39, 11, 27, 97, 23, 85, 35, 43, 57, 55]\n",
      "Kumpulan nilai lebih dari 70:  [73, 97, 81, 94, 92, 73, 83, 95, 97, 75, 98, 96, 86, 86, 93, 93, 79, 84, 89, 95, 85, 78, 79, 91, 92, 78, 90, 85, 88, 79, 85, 79, 90, 92, 87, 87, 85, 89, 99, 71, 77, 95, 71, 93, 95, 96, 88, 93, 80, 98, 85, 87, 86, 94, 99, 84, 90, 99, 72, 97, 94, 89, 71, 85, 80, 88, 98, 86, 81, 74, 97, 98, 85, 74, 86]\n",
      "Nilai Maksimum:  99\n",
      "Nilai Minimum:  1\n"
     ]
    }
   ],
   "source": [
    "import random\n",
    "\n",
    "# GENERATE RANDOM\n",
    "nilaiTugas = []\n",
    "for i in range(250):\n",
    "    nilaiTugas.append(random.randrange(1,100,1))\n",
    "\n",
    "print(nilaiTugas)\n",
    "\n",
    "maks = 0\n",
    "min = 100\n",
    "angkaGanjil = []\n",
    "lebihDari70 = []\n",
    "for i in nilaiTugas:\n",
    "    # angka ganjil\n",
    "    if i % 2 != 0:\n",
    "        angkaGanjil.append(i)\n",
    "    # nilai > 70\n",
    "    if i > 70:\n",
    "        lebihDari70.append(i)\n",
    "    if i > maks:\n",
    "        maks = i\n",
    "    if i < min:\n",
    "        min = i\n",
    "    \n",
    "print(\"List angka ganjil: \", angkaGanjil)\n",
    "print(\"Kumpulan nilai lebih dari 70: \", lebihDari70)\n",
    "print(\"Nilai Maksimum: \", maks)\n",
    "print(\"Nilai Minimum: \", min)\n",
    "# standar deviasi\n",
    "# maksimum\n",
    "# minimum\n",
    "# modus"
   ]
  },
  {
   "cell_type": "code",
   "execution_count": 67,
   "metadata": {},
   "outputs": [
    {
     "name": "stdout",
     "output_type": "stream",
     "text": [
      "Standar Deviasi:  28.750666135115058\n",
      "Modus:  [59, 85] dengan kemunculan sebanyak  7 kali\n"
     ]
    }
   ],
   "source": [
    "#Menghitung standar deviasi\n",
    "total = 0\n",
    "temp = {}\n",
    "totalNilaiTengah = 0\n",
    "kemunculan = 0\n",
    "modus = []\n",
    "for n in nilaiTugas:\n",
    "    total += n\n",
    "    if n in temp:\n",
    "        temp[n] += 1\n",
    "    else:\n",
    "        temp[n] = 1\n",
    "        \n",
    "rata = total / len(nilaiTugas)\n",
    "\n",
    "for n in nilaiTugas:\n",
    "    totalNilaiTengah += ((n-rata)**2)\n",
    "standarDeviasi = (totalNilaiTengah/(len(nilaiTugas)-1))**0.5\n",
    "\n",
    "# mencari modus\n",
    "for k, v in temp.items():\n",
    "    if v > kemunculan: \n",
    "        kemunculan = v\n",
    "        #modus = k\n",
    "for k, v in temp.items():\n",
    "    if kemunculan == v:\n",
    "        modus.append(k)\n",
    "print(\"Standar Deviasi: \", standarDeviasi)\n",
    "print(\"Modus: \", modus, \"dengan kemunculan sebanyak \" , kemunculan , \"kali\" )"
   ]
  },
  {
   "cell_type": "code",
   "execution_count": null,
   "metadata": {},
   "outputs": [],
   "source": []
  }
 ],
 "metadata": {
  "kernelspec": {
   "display_name": "Python 3",
   "language": "python",
   "name": "python3"
  },
  "language_info": {
   "codemirror_mode": {
    "name": "ipython",
    "version": 3
   },
   "file_extension": ".py",
   "mimetype": "text/x-python",
   "name": "python",
   "nbconvert_exporter": "python",
   "pygments_lexer": "ipython3",
   "version": "3.7.0"
  }
 },
 "nbformat": 4,
 "nbformat_minor": 2
}
